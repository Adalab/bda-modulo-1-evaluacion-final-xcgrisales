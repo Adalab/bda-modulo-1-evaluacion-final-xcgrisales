{
 "cells": [
  {
   "cell_type": "code",
   "execution_count": 226,
   "metadata": {},
   "outputs": [],
   "source": [
    "# Crear estructuras principales:\n",
    "\n",
    "inventario = []\n",
    "clientes = {}\n",
    "ventas_totales = 0,0 "
   ]
  },
  {
   "cell_type": "markdown",
   "metadata": {},
   "source": [
    "### EJERCICIO 1:"
   ]
  },
  {
   "cell_type": "code",
   "execution_count": 227,
   "metadata": {},
   "outputs": [],
   "source": [
    "# Utilizar la función agregar_producto(nombre, precio, cantidad)\n",
    "# 1. Iterar a través del inventario y comparar los nombres de los productos con el nombre proporcionado\n",
    "# 2. Si el producto ya existe, actualiza la cantidad\n",
    "# 3. Si el producto no existe, agrega el producto al inventario"
   ]
  },
  {
   "cell_type": "code",
   "execution_count": 228,
   "metadata": {},
   "outputs": [],
   "source": [
    "def agregar_producto(nombre, precio, cantidad):\n",
    "    # Iterar a través del inventario y comparar los nombres de los productos con el nombre proporcionado\n",
    "    for producto in inventario:\n",
    "        # Si el producto ya existe, actualiza la cantidad\n",
    "        if producto.get('nombre') == nombre:\n",
    "            producto['cantidad'] += cantidad\n",
    "            print(\"El producto ya existe y se ha actualizado la cantidad\")\n",
    "            return #agrego el return porque haciendo pruebas en lugar de actualizarme la cantidad de inventario, me agregaba el producto de nuevo\n",
    "\n",
    "    # Si el producto no existe, agrega el producto al inventario\n",
    "    else: #he puesto el else en el mismo nivel de iteración que el for, para que se ejecute solo si el if no se ejecuta\n",
    "        inventario.append({\n",
    "        'nombre': nombre,\n",
    "        'precio': precio,\n",
    "        'cantidad': cantidad\n",
    "        })  \n",
    "        print(\"Producto agregado al inventario\")"
   ]
  },
  {
   "cell_type": "code",
   "execution_count": 229,
   "metadata": {},
   "outputs": [],
   "source": [
    "inventario = []"
   ]
  },
  {
   "cell_type": "code",
   "execution_count": 230,
   "metadata": {},
   "outputs": [
    {
     "name": "stdout",
     "output_type": "stream",
     "text": [
      "Producto agregado al inventario\n",
      "Producto agregado al inventario\n",
      "[{'nombre': 'camiseta', 'precio': 20, 'cantidad': 10}, {'nombre': 'vaqueros', 'precio': 50, 'cantidad': 5}]\n"
     ]
    }
   ],
   "source": [
    "#Voy a agregar productos al inventario para después comprobar que la función agregar_producto funcione correctamente\n",
    "agregar_producto(\"camiseta\", 20, 10)\n",
    "agregar_producto(\"vaqueros\", 50, 5)\n",
    "\n",
    "print(inventario)"
   ]
  },
  {
   "cell_type": "code",
   "execution_count": 231,
   "metadata": {},
   "outputs": [
    {
     "name": "stdout",
     "output_type": "stream",
     "text": [
      "El producto ya existe y se ha actualizado la cantidad\n",
      "[{'nombre': 'camiseta', 'precio': 20, 'cantidad': 15}, {'nombre': 'vaqueros', 'precio': 50, 'cantidad': 5}]\n"
     ]
    }
   ],
   "source": [
    "#Voy a agregar un producto existente para comprobar que la función agregar_producto actualice la cantidad\n",
    "agregar_producto(\"camiseta\", 20, 5)\n",
    "\n",
    "print(inventario)"
   ]
  },
  {
   "cell_type": "markdown",
   "metadata": {},
   "source": [
    "### EJERCICIO 2:"
   ]
  },
  {
   "cell_type": "code",
   "execution_count": 232,
   "metadata": {},
   "outputs": [],
   "source": [
    "# Utilizar la función ver_inventario()\n",
    "# 1. Utiliza un bucle 'for' para recorrer el inventario\n",
    "# 2. Imprime los detalles (nombre, precio, cantidad) de cada producto"
   ]
  },
  {
   "cell_type": "code",
   "execution_count": 233,
   "metadata": {},
   "outputs": [],
   "source": [
    "def ver_inventario():\n",
    "    #Utilizo el if primero para comprobar si el inventario está vacío, si lo está imprime un mensaje y sale de la función\n",
    "    #He probado a poner \"if producto not in inventario\" pero no me funcionaba, así que he probado con \"if not inventario\" y me ha funcionado\n",
    "    if not inventario: \n",
    "        print(\"El inventario está vacío\")\n",
    "        return\n",
    "    #Utilizo el for para iterar sobre el inventario porque es un diccionario\n",
    "    print(\"Inventario de productos:\") #este print lo pongo fuera del for para que imprima el inventario entero, porque he probado a ponerlo antes del otro print con los detalles de los productos y me lo imprimía por cada producto\n",
    "    for producto in inventario:\n",
    "        print(f\"Nombre: {producto['nombre']}, Precio: €{producto['precio']}, Cantidad: {producto['cantidad']}\")"
   ]
  },
  {
   "cell_type": "code",
   "execution_count": 234,
   "metadata": {},
   "outputs": [
    {
     "name": "stdout",
     "output_type": "stream",
     "text": [
      "Inventario de productos:\n",
      "Nombre: camiseta, Precio: €20, Cantidad: 15\n",
      "Nombre: vaqueros, Precio: €50, Cantidad: 5\n"
     ]
    }
   ],
   "source": [
    "ver_inventario()"
   ]
  },
  {
   "cell_type": "markdown",
   "metadata": {},
   "source": [
    "### EJERCICIO 3:"
   ]
  },
  {
   "cell_type": "code",
   "execution_count": 235,
   "metadata": {},
   "outputs": [],
   "source": [
    "# Utilizar la función buscar_producto(nombre)\n",
    "# 1. Utiliza un bucle 'for' para recorrer el inventario\n",
    "# 2. Compara el nombre del producto con el nombre proporcionado\n",
    "# 3. Si se encuentra el producto, imprime sus detalles"
   ]
  },
  {
   "cell_type": "code",
   "execution_count": 236,
   "metadata": {},
   "outputs": [],
   "source": [
    "def buscar_producto(nombre):\n",
    "    for producto in inventario: #Utilizo for para recorrer el inventario\n",
    "        if producto.get('nombre') == nombre: #Comparo el nombre del producto con el nombre proporcionado\n",
    "            print(f\"Nombre: {producto['nombre']}, Precio: €{producto['precio']}, Cantidad: {producto['cantidad']}\")\n",
    "            return\n",
    "    else: #Pido que si no se encuentra el producto, imprima un mensaje\n",
    "        print(\"Producto no encontrado\")"
   ]
  },
  {
   "cell_type": "code",
   "execution_count": 237,
   "metadata": {},
   "outputs": [
    {
     "name": "stdout",
     "output_type": "stream",
     "text": [
      "Nombre: camiseta, Precio: €20, Cantidad: 15\n"
     ]
    }
   ],
   "source": [
    "buscar_producto(\"camiseta\")"
   ]
  },
  {
   "cell_type": "code",
   "execution_count": 238,
   "metadata": {},
   "outputs": [
    {
     "name": "stdout",
     "output_type": "stream",
     "text": [
      "Producto no encontrado\n"
     ]
    }
   ],
   "source": [
    "buscar_producto(\"pantalones\")"
   ]
  },
  {
   "cell_type": "code",
   "execution_count": 239,
   "metadata": {},
   "outputs": [
    {
     "name": "stdout",
     "output_type": "stream",
     "text": [
      "Nombre: vaqueros, Precio: €50, Cantidad: 5\n"
     ]
    }
   ],
   "source": [
    "buscar_producto(\"vaqueros\")"
   ]
  },
  {
   "cell_type": "markdown",
   "metadata": {},
   "source": [
    "### EJERCICIO 4:"
   ]
  },
  {
   "cell_type": "code",
   "execution_count": 240,
   "metadata": {},
   "outputs": [],
   "source": [
    "# Utilizar la función actualizar_stock(nombre, cantidad)\n",
    "# 1. Utiliza un bucle 'for' para recorrer el inventario\n",
    "# 2. Busca el producto por nombre\n",
    "# 3. Actualiza la cantidad según la entrada del usuario\n",
    "# 4. Si el producto no está en el inventario muestra un mensaje indicándolo"
   ]
  },
  {
   "cell_type": "code",
   "execution_count": 241,
   "metadata": {},
   "outputs": [],
   "source": [
    "def actualizar_stock(nombre, cantidad):\n",
    "    for producto in inventario: #Utilizo for para recorrer el inventario\n",
    "        if producto.get('nombre') == nombre: #Busco el producto por nombre\n",
    "            producto['cantidad'] += cantidad #Actualizo la cantidad según la entrada del usuario\n",
    "            print(\"Stock actualizado\")\n",
    "            return\n",
    "    else: #Pido que si no se encuentra el producto, imprima un mensaje\n",
    "        print(\"Producto no encontrado\")"
   ]
  },
  {
   "cell_type": "code",
   "execution_count": 242,
   "metadata": {},
   "outputs": [
    {
     "name": "stdout",
     "output_type": "stream",
     "text": [
      "Stock actualizado\n"
     ]
    }
   ],
   "source": [
    "actualizar_stock(\"camiseta\", 5)"
   ]
  },
  {
   "cell_type": "code",
   "execution_count": 243,
   "metadata": {},
   "outputs": [
    {
     "name": "stdout",
     "output_type": "stream",
     "text": [
      "Producto no encontrado\n"
     ]
    }
   ],
   "source": [
    "actualizar_stock(\"pantalones\", 5)"
   ]
  },
  {
   "cell_type": "markdown",
   "metadata": {},
   "source": [
    "### EJERCICIO 5:"
   ]
  },
  {
   "cell_type": "code",
   "execution_count": 244,
   "metadata": {},
   "outputs": [],
   "source": [
    "# Utilizas la función eliminar_producto(nombre)\n",
    "# 1. Utiliza un bucle 'for' para recorrer el inventario\n",
    "# 2. Busca el producto por nombre\n",
    "# 3. Elimina el producto del inventario si existe\n",
    "# 4. Si el producto no está en el inventario muestra un mensaje indicándolo"
   ]
  },
  {
   "cell_type": "code",
   "execution_count": 245,
   "metadata": {},
   "outputs": [],
   "source": [
    "def eliminar_producto(nombre):\n",
    "    for producto in inventario: #Utilizo for para recorrer el inventario\n",
    "        if producto.get('nombre') == nombre: #Busco el producto por nombre\n",
    "            inventario.remove(producto) #Elimino el producto del inventario si existe\n",
    "            print(\"Producto eliminado\")\n",
    "            return\n",
    "    else: #Pido que si no se encuentra el producto, imprima un mensaje\n",
    "        print(\"Producto no encontrado\")"
   ]
  },
  {
   "cell_type": "code",
   "execution_count": 246,
   "metadata": {},
   "outputs": [],
   "source": [
    "inventario = [{'nombre': 'camiseta', 'precio': 20, 'cantidad': 15}, {'nombre': 'vaqueros', 'precio': 50, 'cantidad': 5}]"
   ]
  },
  {
   "cell_type": "code",
   "execution_count": 247,
   "metadata": {},
   "outputs": [
    {
     "data": {
      "text/plain": [
       "[{'nombre': 'camiseta', 'precio': 20, 'cantidad': 15},\n",
       " {'nombre': 'vaqueros', 'precio': 50, 'cantidad': 5}]"
      ]
     },
     "execution_count": 247,
     "metadata": {},
     "output_type": "execute_result"
    }
   ],
   "source": [
    "inventario"
   ]
  },
  {
   "cell_type": "code",
   "execution_count": 248,
   "metadata": {},
   "outputs": [
    {
     "name": "stdout",
     "output_type": "stream",
     "text": [
      "Producto eliminado\n"
     ]
    }
   ],
   "source": [
    "eliminar_producto(\"camiseta\")"
   ]
  },
  {
   "cell_type": "code",
   "execution_count": 249,
   "metadata": {},
   "outputs": [
    {
     "data": {
      "text/plain": [
       "[{'nombre': 'vaqueros', 'precio': 50, 'cantidad': 5}]"
      ]
     },
     "execution_count": 249,
     "metadata": {},
     "output_type": "execute_result"
    }
   ],
   "source": [
    "inventario"
   ]
  },
  {
   "cell_type": "code",
   "execution_count": 250,
   "metadata": {},
   "outputs": [
    {
     "name": "stdout",
     "output_type": "stream",
     "text": [
      "Producto no encontrado\n"
     ]
    }
   ],
   "source": [
    "eliminar_producto(\"pantalones\")"
   ]
  },
  {
   "cell_type": "code",
   "execution_count": 251,
   "metadata": {},
   "outputs": [
    {
     "data": {
      "text/plain": [
       "[{'nombre': 'vaqueros', 'precio': 50, 'cantidad': 5}]"
      ]
     },
     "execution_count": 251,
     "metadata": {},
     "output_type": "execute_result"
    }
   ],
   "source": [
    "inventario"
   ]
  },
  {
   "cell_type": "markdown",
   "metadata": {},
   "source": [
    "### EJERCICIO 6:"
   ]
  },
  {
   "cell_type": "code",
   "execution_count": 252,
   "metadata": {},
   "outputs": [],
   "source": [
    "# Utilizar la función calcular_valor_inventario()\n",
    "# 1. Utiliza un bucle 'for' para calcular el valor toral del inventario\n",
    "# 2. itera a través del inventario y suma el valor de cada producto ( precio x cantidad). Es decir, calcula el valor toral del inventario"
   ]
  },
  {
   "cell_type": "code",
   "execution_count": 253,
   "metadata": {},
   "outputs": [],
   "source": [
    "valor_inventario = 0 #Creo una variable para almacenar el valor total del inventario"
   ]
  },
  {
   "cell_type": "code",
   "execution_count": 254,
   "metadata": {},
   "outputs": [],
   "source": [
    "def calcular_valor_inventario():\n",
    "    valor_inventario = 0\n",
    "    for producto in inventario: #Utilizo for para recorrer el inventario\n",
    "        valor_inventario += producto['precio'] * producto['cantidad'] #Sumo el valor de cada producto (precio x cantidad)\n",
    "    print(f\"El valor total del inventario es: €{valor_inventario}\")"
   ]
  },
  {
   "cell_type": "code",
   "execution_count": 255,
   "metadata": {},
   "outputs": [
    {
     "data": {
      "text/plain": [
       "[{'nombre': 'vaqueros', 'precio': 50, 'cantidad': 5}]"
      ]
     },
     "execution_count": 255,
     "metadata": {},
     "output_type": "execute_result"
    }
   ],
   "source": [
    "inventario"
   ]
  },
  {
   "cell_type": "code",
   "execution_count": 256,
   "metadata": {},
   "outputs": [
    {
     "name": "stdout",
     "output_type": "stream",
     "text": [
      "El valor total del inventario es: €250\n"
     ]
    }
   ],
   "source": [
    "calcular_valor_inventario()"
   ]
  },
  {
   "cell_type": "code",
   "execution_count": 257,
   "metadata": {},
   "outputs": [
    {
     "name": "stdout",
     "output_type": "stream",
     "text": [
      "Producto agregado al inventario\n"
     ]
    }
   ],
   "source": [
    "agregar_producto(\"camiseta\", 20, 10)"
   ]
  },
  {
   "cell_type": "code",
   "execution_count": 258,
   "metadata": {},
   "outputs": [
    {
     "name": "stdout",
     "output_type": "stream",
     "text": [
      "Producto agregado al inventario\n"
     ]
    }
   ],
   "source": [
    "agregar_producto(\"zapatos\", 40, 5)"
   ]
  },
  {
   "cell_type": "code",
   "execution_count": 259,
   "metadata": {},
   "outputs": [
    {
     "data": {
      "text/plain": [
       "[{'nombre': 'vaqueros', 'precio': 50, 'cantidad': 5},\n",
       " {'nombre': 'camiseta', 'precio': 20, 'cantidad': 10},\n",
       " {'nombre': 'zapatos', 'precio': 40, 'cantidad': 5}]"
      ]
     },
     "execution_count": 259,
     "metadata": {},
     "output_type": "execute_result"
    }
   ],
   "source": [
    "inventario"
   ]
  },
  {
   "cell_type": "code",
   "execution_count": 260,
   "metadata": {},
   "outputs": [
    {
     "name": "stdout",
     "output_type": "stream",
     "text": [
      "El valor total del inventario es: €650\n"
     ]
    }
   ],
   "source": [
    "calcular_valor_inventario()"
   ]
  },
  {
   "cell_type": "markdown",
   "metadata": {},
   "source": [
    "### EJERCICIO 7:"
   ]
  },
  {
   "cell_type": "code",
   "execution_count": 261,
   "metadata": {},
   "outputs": [],
   "source": [
    "# Utilizar la función realizar_compra()\n",
    "# 1. Utiliza un bucle 'while' para permitir al cliente realizar múltiples compras\n",
    "# 2. Muestra el inventario y solicita al cliente ingresar el nombre del producto que desea comprar\n",
    "# 3. Registra los productos seleccionados en un carrito y actualiza el inventario\n",
    "# 4. Calcula el costo total de la compra"
   ]
  },
  {
   "cell_type": "code",
   "execution_count": 262,
   "metadata": {},
   "outputs": [
    {
     "data": {
      "text/plain": [
       "[{'nombre': 'vaqueros', 'precio': 50, 'cantidad': 5},\n",
       " {'nombre': 'camiseta', 'precio': 20, 'cantidad': 10},\n",
       " {'nombre': 'zapatos', 'precio': 40, 'cantidad': 5}]"
      ]
     },
     "execution_count": 262,
     "metadata": {},
     "output_type": "execute_result"
    }
   ],
   "source": [
    "inventario"
   ]
  },
  {
   "cell_type": "code",
   "execution_count": 263,
   "metadata": {},
   "outputs": [],
   "source": [
    "lista_compra = []"
   ]
  },
  {
   "cell_type": "code",
   "execution_count": 264,
   "metadata": {},
   "outputs": [],
   "source": [
    "ventas_totales = 0"
   ]
  },
  {
   "cell_type": "code",
   "execution_count": 265,
   "metadata": {},
   "outputs": [],
   "source": [
    "def realizar_compra():\n",
    "    global ventas_totales #Para poder modificar la variable global ventas_totales porque solo con ventas_totales da error\n",
    "    opcion = input(\"¿Deseas realizar una compra? (s/n):\") #Solicito al cliente si desea realizar una compra\n",
    "    \n",
    "    while opcion == \"s\":\n",
    "        ver_inventario() #Muestro el inventario\n",
    "\n",
    "        nombre = input(\"Introduce el nombre del producto que deseas comprar o 'fin' para salir:\") #Solicito al cliente ingresar el nombre del producto que desea comprar\n",
    "        if nombre == \"fin\":\n",
    "            break\n",
    "\n",
    "        for producto in inventario: #Utilizo for para recorrer el inventario\n",
    "            if producto['nombre'].lower() == nombre: #Busco el producto por nombre\n",
    "                cantidad = int(input(\"Introduce la cantidad que deseas comprar:\")) #Solicito al cliente ingresar la cantidad que desea comprar\n",
    "                \n",
    "                if cantidad >= producto['cantidad']: #Compruebo si hay suficiente stock\n",
    "                    print(\"No hay suficiente stock\")\n",
    "                    continue\n",
    "                        \n",
    "                lista_compra.append({\n",
    "                        'nombre': producto['nombre'],\n",
    "                        'precio': producto['precio'],\n",
    "                        'cantidad': cantidad\n",
    "                })\n",
    "            \n",
    "                ventas_totales += producto['precio'] * cantidad #Calculo el costo total de la compra\n",
    "\n",
    "                producto['cantidad'] -= cantidad #Actualizo el inventario\n",
    "                print(\"Producto añadido al carrito\")\n",
    "                break\n",
    "                \n",
    "        else: #Pido que si no se encuentra el producto, imprima un mensaje\n",
    "            print(\"Producto no encontrado\")\n",
    "\n",
    "        opcion = input(\"¿Deseas seguir comprando? (s/n):\") #Solicito al cliente si desea seguir comprando"
   ]
  },
  {
   "cell_type": "code",
   "execution_count": 266,
   "metadata": {},
   "outputs": [],
   "source": [
    "realizar_compra()"
   ]
  },
  {
   "cell_type": "code",
   "execution_count": 267,
   "metadata": {},
   "outputs": [
    {
     "data": {
      "text/plain": [
       "[]"
      ]
     },
     "execution_count": 267,
     "metadata": {},
     "output_type": "execute_result"
    }
   ],
   "source": [
    "lista_compra"
   ]
  },
  {
   "cell_type": "code",
   "execution_count": 268,
   "metadata": {},
   "outputs": [
    {
     "data": {
      "text/plain": [
       "0"
      ]
     },
     "execution_count": 268,
     "metadata": {},
     "output_type": "execute_result"
    }
   ],
   "source": [
    "ventas_totales"
   ]
  },
  {
   "cell_type": "code",
   "execution_count": 269,
   "metadata": {},
   "outputs": [
    {
     "data": {
      "text/plain": [
       "[{'nombre': 'vaqueros', 'precio': 50, 'cantidad': 5},\n",
       " {'nombre': 'camiseta', 'precio': 20, 'cantidad': 10},\n",
       " {'nombre': 'zapatos', 'precio': 40, 'cantidad': 5}]"
      ]
     },
     "execution_count": 269,
     "metadata": {},
     "output_type": "execute_result"
    }
   ],
   "source": [
    "inventario"
   ]
  },
  {
   "cell_type": "markdown",
   "metadata": {},
   "source": [
    "### EJERCICIO 8:"
   ]
  },
  {
   "cell_type": "code",
   "execution_count": 270,
   "metadata": {},
   "outputs": [],
   "source": [
    "# Utilizar la función procesar_pago(): procesar pago de la compra, calcula el cambio y muestra mensaje de confirmación\n",
    "# 1. Utilizar un bloque 'try...except' para manejar excepciones\n",
    "# 2. Solicitar al cliente que ingrese la cantidad total y la cantidad de pago\n",
    "# 3. Calcula el cambio y muestra un mensaje de pago exitoso o error si la cantidad de pago es insuficiente"
   ]
  },
  {
   "cell_type": "code",
   "execution_count": 271,
   "metadata": {},
   "outputs": [],
   "source": [
    "def procersar_pago():\n",
    "    try:\n",
    "        cantidad_a_pagar = int(input(\"¿Cuál es el importe a pagar?:\"))\n",
    "        cantidad_pagada = int(input(\"¿Cuál es la cantidad de pago?:\"))\n",
    "    \n",
    "        if cantidad_pagada < cantidad_a_pagar:\n",
    "            print(\"Pago insuficiente\")\n",
    "\n",
    "        else: \n",
    "            cambio = cantidad_pagada - cantidad_a_pagar\n",
    "            print(\"Pago exitoso\")\n",
    "            print(f\"Su cambio es: €{cambio}\")\n",
    "    except ValueError:\n",
    "        print(\"Error: Introduce un número válido\")"
   ]
  },
  {
   "cell_type": "code",
   "execution_count": 272,
   "metadata": {},
   "outputs": [
    {
     "name": "stdout",
     "output_type": "stream",
     "text": [
      "Error: Introduce un número válido\n"
     ]
    }
   ],
   "source": [
    "procersar_pago()"
   ]
  },
  {
   "cell_type": "markdown",
   "metadata": {},
   "source": [
    "### EJERCICIO 9:"
   ]
  },
  {
   "cell_type": "code",
   "execution_count": 273,
   "metadata": {},
   "outputs": [],
   "source": [
    "# Utilizar la función agregar_cliente(nombre, email)\n",
    "# 1. Agrega un cliente al diccionario de clientes con su nombre y correo electrónico"
   ]
  },
  {
   "cell_type": "code",
   "execution_count": 274,
   "metadata": {},
   "outputs": [
    {
     "data": {
      "text/plain": [
       "{}"
      ]
     },
     "execution_count": 274,
     "metadata": {},
     "output_type": "execute_result"
    }
   ],
   "source": [
    "clientes = {}\n",
    "clientes"
   ]
  },
  {
   "cell_type": "code",
   "execution_count": 275,
   "metadata": {},
   "outputs": [],
   "source": [
    "def agregar_cliente(nombre, email):\n",
    "    clientes[nombre] = email\n",
    "    print(\"Cliente agregado\")"
   ]
  },
  {
   "cell_type": "code",
   "execution_count": 276,
   "metadata": {},
   "outputs": [
    {
     "name": "stdout",
     "output_type": "stream",
     "text": [
      "Cliente agregado\n"
     ]
    }
   ],
   "source": [
    "agregar_cliente(\"Dora\", \"dora@gmail.com\")"
   ]
  },
  {
   "cell_type": "markdown",
   "metadata": {},
   "source": [
    "### EJERCICIO 10:"
   ]
  },
  {
   "cell_type": "code",
   "execution_count": 277,
   "metadata": {},
   "outputs": [],
   "source": [
    "# Utilizar la función ver_clientes()\n",
    "# 1. Utiliza un bucle `for` para recorrer la base de datos de clientes\n",
    "# 2. Imprime los detalles de cada cliente (nombre y correo electrónico)"
   ]
  },
  {
   "cell_type": "code",
   "execution_count": 278,
   "metadata": {},
   "outputs": [],
   "source": [
    "def ver_clientes():\n",
    "    for nombre, email in clientes.items():\n",
    "        print(f\"Nombre: {nombre}, email: {email}\")"
   ]
  },
  {
   "cell_type": "code",
   "execution_count": 279,
   "metadata": {},
   "outputs": [
    {
     "name": "stdout",
     "output_type": "stream",
     "text": [
      "Nombre: Dora, email: dora@gmail.com\n",
      "{'Dora': 'dora@gmail.com'}\n"
     ]
    }
   ],
   "source": [
    "ver_clientes()\n",
    "print(clientes)"
   ]
  }
 ],
 "metadata": {
  "kernelspec": {
   "display_name": "Python 3",
   "language": "python",
   "name": "python3"
  },
  "language_info": {
   "codemirror_mode": {
    "name": "ipython",
    "version": 3
   },
   "file_extension": ".py",
   "mimetype": "text/x-python",
   "name": "python",
   "nbconvert_exporter": "python",
   "pygments_lexer": "ipython3",
   "version": "3.13.1"
  }
 },
 "nbformat": 4,
 "nbformat_minor": 2
}
